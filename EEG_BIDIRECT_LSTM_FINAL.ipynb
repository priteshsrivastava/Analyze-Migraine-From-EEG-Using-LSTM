{
 "cells": [
  {
   "cell_type": "code",
   "execution_count": 1,
   "id": "massive-municipality",
   "metadata": {},
   "outputs": [],
   "source": [
    "# visualize dataset without outliers\n",
    "from pandas import read_csv\n",
    "from matplotlib import pyplot\n",
    "import pandas as pd\n",
    "\n",
    "# load the dataset\n",
    "data_m1 = read_csv('/Users/admin/Desktop/PKS/MTechSem4_2021/MTP1/Dataset/M1_1/M1_data.csv', sep = '\\t')\n",
    "data_m3 = read_csv('/Users/admin/Desktop/PKS/MTechSem4_2021/MTP1/Dataset/M3_2/M3_data.csv', sep = '\\t')\n",
    "data_m4 = read_csv('/Users/admin/Desktop/PKS/MTechSem4_2021/MTP1/Dataset/M4_1/M4_data.csv', sep = '\\t')\n",
    "\n",
    "data_c1 = read_csv('/Users/admin/Desktop/PKS/MTechSem4_2021/MTP1/Dataset/C1/C1_data.csv', sep = '\\t')\n",
    "data_c2 = read_csv('/Users/admin/Desktop/PKS/MTechSem4_2021/MTP1/Dataset/C2/C2_data.csv', sep = '\\t')\n",
    "data_c3 = read_csv('/Users/admin/Desktop/PKS/MTechSem4_2021/MTP1/Dataset/C3/C3_data.csv', sep = '\\t')\n",
    "\n",
    "\n",
    "# retrieve data as numpy array\n",
    "values_m1 = data_m1.values\n",
    "values_m2 = data_m3.values\n",
    "values_m3 = data_m4.values\n",
    "\n",
    "values_c1 = data_c1.values\n",
    "values_c2 = data_c2.values\n",
    "values_c3 = data_c3.values\n"
   ]
  },
  {
   "cell_type": "code",
   "execution_count": 2,
   "id": "elementary-environment",
   "metadata": {},
   "outputs": [
    {
     "name": "stdout",
     "output_type": "stream",
     "text": [
      "(51200, 143) (51200,)\n",
      "(51200, 143) (51200,)\n",
      "(51200, 143) (51200,)\n",
      "(51200, 143) (51200,)\n",
      "(51200, 143) (51200,)\n",
      "(51200, 143) (51200,)\n",
      "After concat: \n",
      "(307200, 143) (307200,)\n",
      "(230400, 1, 143) (76800, 1, 143)\n"
     ]
    }
   ],
   "source": [
    "# importing library\n",
    "import numpy\n",
    "\n",
    "from pandas import read_csv\n",
    "from sklearn.metrics import accuracy_score\n",
    "from sklearn.model_selection import train_test_split\n",
    "from sklearn.neighbors import KNeighborsClassifier\n",
    "from numpy import array\n",
    "\n",
    "# split data into inputs and outputs. Data chunk size=1024. Handling 50 chunks=1024x50=51200 Rows.\n",
    "# Left first column which has time sequence value\n",
    "X1 = values_m1[0:51200, 1:]\n",
    "y1 = []\n",
    "# print(X1.shape)\n",
    "for j in range(0, 51200):\n",
    "    y1.append(1)#Migraine=1\n",
    "    \n",
    "y1 = numpy.array(y1)\n",
    "# y1.shape\n",
    "# print(len(y))\n",
    "print(X1.shape, y1.shape)\n",
    "\n",
    "X2 = values_c1[0:51200, 1:]\n",
    "y2 = []\n",
    "# print(X2.shape)\n",
    "for j in range(0, 51200):\n",
    "    y2.append(0)#Control=0\n",
    "\n",
    "y2 = numpy.array(y2)\n",
    "# y2.shape\n",
    "print(X2.shape, y2.shape)\n",
    "\n",
    "\n",
    "X3 = values_m2[0:51200, 1:]\n",
    "y3 = []\n",
    "for j in range(0, 51200):\n",
    "    y3.append(1)#Migraine=1\n",
    "y3 = numpy.array(y3)\n",
    "print(X3.shape, y3.shape)\n",
    "\n",
    "X4 = values_c2[0:51200, 1:]\n",
    "y4 = []\n",
    "for j in range(0, 51200):\n",
    "    y4.append(0)#Control=0\n",
    "y4 = numpy.array(y4)\n",
    "print(X4.shape, y4.shape)\n",
    "\n",
    "\n",
    "X5 = values_m3[0:51200, 1:]\n",
    "y5 = []\n",
    "for j in range(0, 51200):\n",
    "    y5.append(1)#Migraine=1\n",
    "y5 = numpy.array(y5)\n",
    "print(X5.shape, y5.shape)\n",
    "\n",
    "X6 = values_c3[0:51200, 1:]\n",
    "y6 = []\n",
    "for j in range(0, 51200):\n",
    "    y6.append(0)#Control=0\n",
    "y6 = numpy.array(y6)\n",
    "print(X6.shape, y6.shape)\n",
    "\n",
    "# data_m1 = pd.concat([data_m1, data_c1], ignore_index=True)\n",
    "X = numpy.concatenate((X1, X2, X3, X4, X5, X6,), axis=0)\n",
    "y = numpy.concatenate([y1, y2, y3, y4, y5, y6], axis=0)\n",
    "print('After concat: ')\n",
    "print(X.shape, y.shape)\n",
    "\n",
    "\n",
    "from sklearn.preprocessing import StandardScaler\n",
    "# Apply StandardScaler.\n",
    "scaler = StandardScaler()\n",
    "scaler.fit(X)\n",
    "X = scaler.transform(X)\n",
    "\n",
    "# split the dataset\n",
    "trainX, testX, y_train, y_test = train_test_split(X, y, test_size=0.25, shuffle=False, random_state=1)\n",
    "\n",
    "# reshape input to be 3D [samples, timesteps, features]\n",
    "X_train = numpy.reshape(trainX, (trainX.shape[0], 1, X.shape[1]))\n",
    "X_test = numpy.reshape(testX, (testX.shape[0], 1, X.shape[1]))\n",
    "print(X_train.shape, X_test.shape)"
   ]
  },
  {
   "cell_type": "code",
   "execution_count": 3,
   "id": "hidden-battlefield",
   "metadata": {
    "scrolled": true
   },
   "outputs": [
    {
     "name": "stdout",
     "output_type": "stream",
     "text": [
      "143\n"
     ]
    }
   ],
   "source": [
    "import tensorflow as tf\n",
    "from tensorflow.keras import Sequential\n",
    "from tensorflow.keras.layers import Dense, Dropout\n",
    "from tensorflow.keras.layers import Embedding\n",
    "from tensorflow.keras.layers import LSTM\n",
    "\n",
    "from keras.layers import Bidirectional\n",
    "from keras.layers import RepeatVector\n",
    "from keras.layers import TimeDistributed\n",
    "\n",
    "print(X_train.shape[2])\n",
    "\n",
    "model = Sequential()\n",
    "# model.add(Bidirectional(LSTM(50, activation='relu', input_shape=(1,X_train.shape[2]), return_sequences=True)))\n",
    "model.add(Bidirectional(LSTM(200, activation='relu', input_shape=(1,X_train.shape[2]), return_sequences=True)))\n",
    "model.add(TimeDistributed(Dense(1)))\n",
    "model.compile(loss='mae', optimizer='adam', metrics=['acc'])\n",
    "\n",
    "# model = Sequential()\n",
    "# model.add(LSTM(128, input_shape=(1,X_train.shape[2]), activation='relu', return_sequences=True))\n",
    "# model.add(Dropout(0.4))\n",
    "# model.add(LSTM(128, activation='relu'))\n",
    "# model.add(Dropout(0.4))\n",
    "# model.add(Dense(3, activation='relu'))\n",
    "# model.compile(loss='mse', optimizer='adam', metrics=['acc'])\n",
    "# model.summary()\n"
   ]
  },
  {
   "cell_type": "code",
   "execution_count": 4,
   "id": "prescribed-chair",
   "metadata": {},
   "outputs": [
    {
     "name": "stdout",
     "output_type": "stream",
     "text": [
      "Epoch 1/100\n",
      "113/113 [==============================] - 21s 156ms/step - loss: 0.3620 - acc: 0.7110 - val_loss: 0.4104 - val_acc: 0.5965\n",
      "Epoch 2/100\n",
      "113/113 [==============================] - 16s 140ms/step - loss: 0.1242 - acc: 0.9971 - val_loss: 0.2860 - val_acc: 0.7987\n",
      "Epoch 3/100\n",
      "113/113 [==============================] - 16s 143ms/step - loss: 0.0823 - acc: 0.9991 - val_loss: 0.2665 - val_acc: 0.8373\n",
      "Epoch 4/100\n",
      "113/113 [==============================] - 16s 145ms/step - loss: 0.0671 - acc: 0.9995 - val_loss: 0.2508 - val_acc: 0.8668\n",
      "Epoch 5/100\n",
      "113/113 [==============================] - 16s 145ms/step - loss: 0.0592 - acc: 0.9998 - val_loss: 0.2463 - val_acc: 0.8805\n",
      "Epoch 6/100\n",
      "113/113 [==============================] - 18s 162ms/step - loss: 0.0544 - acc: 0.9998 - val_loss: 0.2456 - val_acc: 0.8838\n",
      "Epoch 7/100\n",
      "113/113 [==============================] - 18s 163ms/step - loss: 0.0510 - acc: 0.9999 - val_loss: 0.2444 - val_acc: 0.8851\n",
      "Epoch 8/100\n",
      "113/113 [==============================] - 16s 139ms/step - loss: 0.0492 - acc: 0.9999 - val_loss: 0.2339 - val_acc: 0.9050\n",
      "Epoch 9/100\n",
      "113/113 [==============================] - 16s 139ms/step - loss: 0.0468 - acc: 0.9999 - val_loss: 0.2324 - val_acc: 0.9083\n",
      "Epoch 10/100\n",
      "113/113 [==============================] - 15s 135ms/step - loss: 0.0436 - acc: 0.9999 - val_loss: 0.2330 - val_acc: 0.9064\n",
      "Epoch 11/100\n",
      "113/113 [==============================] - 16s 143ms/step - loss: 0.0415 - acc: 0.9999 - val_loss: 0.2322 - val_acc: 0.9066\n",
      "Epoch 12/100\n",
      "113/113 [==============================] - 16s 142ms/step - loss: 0.0401 - acc: 0.9999 - val_loss: 0.2302 - val_acc: 0.9105\n",
      "Epoch 13/100\n",
      "113/113 [==============================] - 16s 137ms/step - loss: 0.0390 - acc: 1.0000 - val_loss: 0.2267 - val_acc: 0.9148\n",
      "Epoch 14/100\n",
      "113/113 [==============================] - 15s 133ms/step - loss: 0.0377 - acc: 0.9999 - val_loss: 0.2224 - val_acc: 0.9215\n",
      "Epoch 15/100\n",
      "113/113 [==============================] - 15s 133ms/step - loss: 0.0366 - acc: 1.0000 - val_loss: 0.2226 - val_acc: 0.9198\n",
      "Epoch 16/100\n",
      "113/113 [==============================] - 15s 134ms/step - loss: 0.0358 - acc: 0.9999 - val_loss: 0.2190 - val_acc: 0.9262\n",
      "Epoch 17/100\n",
      "113/113 [==============================] - 15s 135ms/step - loss: 0.0348 - acc: 1.0000 - val_loss: 0.2194 - val_acc: 0.9261\n",
      "Epoch 18/100\n",
      "113/113 [==============================] - 15s 135ms/step - loss: 0.0347 - acc: 1.0000 - val_loss: 0.2163 - val_acc: 0.9300\n",
      "Epoch 19/100\n",
      "113/113 [==============================] - 15s 133ms/step - loss: 0.0331 - acc: 1.0000 - val_loss: 0.2139 - val_acc: 0.9319\n",
      "Epoch 20/100\n",
      "113/113 [==============================] - 15s 134ms/step - loss: 0.0329 - acc: 1.0000 - val_loss: 0.2164 - val_acc: 0.9294\n",
      "Epoch 21/100\n",
      "113/113 [==============================] - 15s 133ms/step - loss: 0.0319 - acc: 1.0000 - val_loss: 0.2162 - val_acc: 0.9284\n",
      "Epoch 22/100\n",
      "113/113 [==============================] - 17s 149ms/step - loss: 0.0314 - acc: 1.0000 - val_loss: 0.2133 - val_acc: 0.9335\n",
      "Epoch 23/100\n",
      "113/113 [==============================] - 15s 136ms/step - loss: 0.0302 - acc: 1.0000 - val_loss: 0.2106 - val_acc: 0.9351\n",
      "Epoch 24/100\n",
      "113/113 [==============================] - 15s 133ms/step - loss: 0.0300 - acc: 1.0000 - val_loss: 0.2131 - val_acc: 0.9326\n",
      "Epoch 25/100\n",
      "113/113 [==============================] - 15s 132ms/step - loss: 0.0301 - acc: 1.0000 - val_loss: 0.2103 - val_acc: 0.9370\n",
      "Epoch 26/100\n",
      "113/113 [==============================] - 15s 133ms/step - loss: 0.0290 - acc: 1.0000 - val_loss: 0.2082 - val_acc: 0.9369\n",
      "Epoch 27/100\n",
      "113/113 [==============================] - 15s 131ms/step - loss: 0.0285 - acc: 1.0000 - val_loss: 0.2096 - val_acc: 0.9360\n",
      "Epoch 28/100\n",
      "113/113 [==============================] - 15s 133ms/step - loss: 0.0283 - acc: 1.0000 - val_loss: 0.2082 - val_acc: 0.9378\n",
      "Epoch 29/100\n",
      "113/113 [==============================] - 15s 132ms/step - loss: 0.0275 - acc: 1.0000 - val_loss: 0.2075 - val_acc: 0.9374\n",
      "Epoch 30/100\n",
      "113/113 [==============================] - 15s 136ms/step - loss: 0.0275 - acc: 1.0000 - val_loss: 0.2097 - val_acc: 0.9325\n",
      "Epoch 31/100\n",
      "113/113 [==============================] - 15s 131ms/step - loss: 0.0267 - acc: 1.0000 - val_loss: 0.2065 - val_acc: 0.9386\n",
      "Epoch 32/100\n",
      "113/113 [==============================] - 15s 132ms/step - loss: 0.0265 - acc: 1.0000 - val_loss: 0.2043 - val_acc: 0.9394\n",
      "Epoch 33/100\n",
      "113/113 [==============================] - 15s 131ms/step - loss: 0.0261 - acc: 1.0000 - val_loss: 0.2046 - val_acc: 0.9403\n",
      "Epoch 34/100\n",
      "113/113 [==============================] - 15s 131ms/step - loss: 0.0261 - acc: 1.0000 - val_loss: 0.2025 - val_acc: 0.9413\n",
      "Epoch 35/100\n",
      "113/113 [==============================] - 15s 131ms/step - loss: 0.0265 - acc: 1.0000 - val_loss: 0.2045 - val_acc: 0.9397\n",
      "Epoch 36/100\n",
      "113/113 [==============================] - 17s 153ms/step - loss: 0.0251 - acc: 1.0000 - val_loss: 0.2008 - val_acc: 0.9435\n",
      "Epoch 37/100\n",
      "113/113 [==============================] - 15s 135ms/step - loss: 0.0248 - acc: 1.0000 - val_loss: 0.2015 - val_acc: 0.9427\n",
      "Epoch 38/100\n",
      "113/113 [==============================] - 15s 130ms/step - loss: 0.0253 - acc: 1.0000 - val_loss: 0.2028 - val_acc: 0.9409\n",
      "Epoch 39/100\n",
      "113/113 [==============================] - 15s 132ms/step - loss: 0.0245 - acc: 1.0000 - val_loss: 0.2051 - val_acc: 0.9384\n",
      "Epoch 40/100\n",
      "113/113 [==============================] - 15s 134ms/step - loss: 0.0238 - acc: 1.0000 - val_loss: 0.2047 - val_acc: 0.9384\n",
      "Epoch 41/100\n",
      "113/113 [==============================] - 15s 133ms/step - loss: 0.0236 - acc: 1.0000 - val_loss: 0.1987 - val_acc: 0.9446\n",
      "Epoch 42/100\n",
      "113/113 [==============================] - 15s 134ms/step - loss: 0.0235 - acc: 1.0000 - val_loss: 0.1980 - val_acc: 0.9469\n",
      "Epoch 43/100\n",
      "113/113 [==============================] - 16s 139ms/step - loss: 0.0236 - acc: 1.0000 - val_loss: 0.2009 - val_acc: 0.9429\n",
      "Epoch 44/100\n",
      "113/113 [==============================] - 17s 146ms/step - loss: 0.0231 - acc: 1.0000 - val_loss: 0.2001 - val_acc: 0.9449\n",
      "Epoch 45/100\n",
      "113/113 [==============================] - 16s 145ms/step - loss: 0.0235 - acc: 1.0000 - val_loss: 0.1967 - val_acc: 0.9476\n",
      "Epoch 46/100\n",
      "113/113 [==============================] - 15s 131ms/step - loss: 0.0232 - acc: 1.0000 - val_loss: 0.1973 - val_acc: 0.9463\n",
      "Epoch 47/100\n",
      "113/113 [==============================] - 15s 133ms/step - loss: 0.0232 - acc: 1.0000 - val_loss: 0.1941 - val_acc: 0.9479\n",
      "Epoch 48/100\n",
      "113/113 [==============================] - 15s 133ms/step - loss: 0.0221 - acc: 1.0000 - val_loss: 0.1927 - val_acc: 0.9509\n",
      "Epoch 49/100\n",
      "113/113 [==============================] - 15s 133ms/step - loss: 0.0220 - acc: 1.0000 - val_loss: 0.1946 - val_acc: 0.9467\n",
      "Epoch 50/100\n",
      "113/113 [==============================] - 15s 131ms/step - loss: 0.0218 - acc: 1.0000 - val_loss: 0.1987 - val_acc: 0.9428\n",
      "Epoch 51/100\n",
      "113/113 [==============================] - 15s 134ms/step - loss: 0.0218 - acc: 1.0000 - val_loss: 0.1961 - val_acc: 0.9467\n",
      "Epoch 52/100\n",
      "113/113 [==============================] - 15s 133ms/step - loss: 0.0219 - acc: 1.0000 - val_loss: 0.1955 - val_acc: 0.9475\n",
      "Epoch 53/100\n",
      "113/113 [==============================] - 16s 137ms/step - loss: 0.0221 - acc: 1.0000 - val_loss: 0.1962 - val_acc: 0.9469\n",
      "Epoch 54/100\n",
      "113/113 [==============================] - 15s 131ms/step - loss: 0.0212 - acc: 1.0000 - val_loss: 0.1985 - val_acc: 0.9430\n",
      "Epoch 55/100\n",
      "113/113 [==============================] - 15s 131ms/step - loss: 0.0209 - acc: 1.0000 - val_loss: 0.1913 - val_acc: 0.9508\n",
      "Epoch 56/100\n",
      "113/113 [==============================] - 15s 135ms/step - loss: 0.0208 - acc: 1.0000 - val_loss: 0.1960 - val_acc: 0.9453\n",
      "Epoch 57/100\n",
      "113/113 [==============================] - 15s 131ms/step - loss: 0.0211 - acc: 1.0000 - val_loss: 0.1902 - val_acc: 0.9521\n",
      "Epoch 58/100\n",
      "113/113 [==============================] - 16s 140ms/step - loss: 0.0206 - acc: 1.0000 - val_loss: 0.1927 - val_acc: 0.9490\n",
      "Epoch 59/100\n",
      "113/113 [==============================] - 16s 138ms/step - loss: 0.0208 - acc: 1.0000 - val_loss: 0.1903 - val_acc: 0.9505\n",
      "Epoch 60/100\n",
      "113/113 [==============================] - 15s 132ms/step - loss: 0.0201 - acc: 1.0000 - val_loss: 0.1913 - val_acc: 0.9505\n"
     ]
    },
    {
     "name": "stdout",
     "output_type": "stream",
     "text": [
      "Epoch 61/100\n",
      "113/113 [==============================] - 15s 129ms/step - loss: 0.0200 - acc: 1.0000 - val_loss: 0.1932 - val_acc: 0.9490\n",
      "Epoch 62/100\n",
      "113/113 [==============================] - 14s 128ms/step - loss: 0.0202 - acc: 1.0000 - val_loss: 0.1909 - val_acc: 0.9509\n",
      "Epoch 63/100\n",
      "113/113 [==============================] - 16s 139ms/step - loss: 0.0199 - acc: 1.0000 - val_loss: 0.1910 - val_acc: 0.9503\n",
      "Epoch 64/100\n",
      "113/113 [==============================] - 15s 129ms/step - loss: 0.0197 - acc: 1.0000 - val_loss: 0.1928 - val_acc: 0.9467\n",
      "Epoch 65/100\n",
      "113/113 [==============================] - 15s 129ms/step - loss: 0.0196 - acc: 1.0000 - val_loss: 0.1921 - val_acc: 0.9479\n",
      "Epoch 66/100\n",
      "113/113 [==============================] - 15s 129ms/step - loss: 0.0192 - acc: 1.0000 - val_loss: 0.1923 - val_acc: 0.9495\n",
      "Epoch 67/100\n",
      "113/113 [==============================] - 15s 131ms/step - loss: 0.0195 - acc: 1.0000 - val_loss: 0.1941 - val_acc: 0.9469\n",
      "Epoch 68/100\n",
      "113/113 [==============================] - 15s 130ms/step - loss: 0.0192 - acc: 1.0000 - val_loss: 0.1913 - val_acc: 0.9497\n",
      "Epoch 69/100\n",
      "113/113 [==============================] - 15s 130ms/step - loss: 0.0190 - acc: 1.0000 - val_loss: 0.1914 - val_acc: 0.9500\n",
      "Epoch 70/100\n",
      "113/113 [==============================] - 15s 131ms/step - loss: 0.0190 - acc: 1.0000 - val_loss: 0.1894 - val_acc: 0.9497\n",
      "Epoch 71/100\n",
      "113/113 [==============================] - 15s 135ms/step - loss: 0.0187 - acc: 1.0000 - val_loss: 0.1910 - val_acc: 0.9496\n",
      "Epoch 72/100\n",
      "113/113 [==============================] - 15s 132ms/step - loss: 0.0188 - acc: 1.0000 - val_loss: 0.1919 - val_acc: 0.9486\n",
      "Epoch 73/100\n",
      "113/113 [==============================] - 15s 133ms/step - loss: 0.0189 - acc: 1.0000 - val_loss: 0.1893 - val_acc: 0.9495\n",
      "Epoch 74/100\n",
      "113/113 [==============================] - 15s 130ms/step - loss: 0.0183 - acc: 1.0000 - val_loss: 0.1852 - val_acc: 0.9533\n",
      "Epoch 75/100\n",
      "113/113 [==============================] - 15s 131ms/step - loss: 0.0187 - acc: 1.0000 - val_loss: 0.1901 - val_acc: 0.9488\n",
      "Epoch 76/100\n",
      "113/113 [==============================] - 15s 131ms/step - loss: 0.0181 - acc: 1.0000 - val_loss: 0.1881 - val_acc: 0.9515\n",
      "Epoch 77/100\n",
      "113/113 [==============================] - 15s 137ms/step - loss: 0.0185 - acc: 1.0000 - val_loss: 0.1914 - val_acc: 0.9488\n",
      "Epoch 78/100\n",
      "113/113 [==============================] - 15s 135ms/step - loss: 0.0182 - acc: 1.0000 - val_loss: 0.1878 - val_acc: 0.9514\n",
      "Epoch 79/100\n",
      "113/113 [==============================] - 16s 139ms/step - loss: 0.0180 - acc: 1.0000 - val_loss: 0.1898 - val_acc: 0.9474\n",
      "Epoch 80/100\n",
      "113/113 [==============================] - 16s 139ms/step - loss: 0.0180 - acc: 1.0000 - val_loss: 0.1864 - val_acc: 0.9541\n",
      "Epoch 81/100\n",
      "113/113 [==============================] - 15s 132ms/step - loss: 0.0177 - acc: 1.0000 - val_loss: 0.1869 - val_acc: 0.9511\n",
      "Epoch 82/100\n",
      "113/113 [==============================] - 15s 133ms/step - loss: 0.0176 - acc: 1.0000 - val_loss: 0.1842 - val_acc: 0.9527\n",
      "Epoch 83/100\n",
      "113/113 [==============================] - 15s 136ms/step - loss: 0.0175 - acc: 1.0000 - val_loss: 0.1885 - val_acc: 0.9495\n",
      "Epoch 84/100\n",
      "113/113 [==============================] - 17s 148ms/step - loss: 0.0174 - acc: 1.0000 - val_loss: 0.1843 - val_acc: 0.9540\n",
      "Epoch 85/100\n",
      "113/113 [==============================] - 15s 134ms/step - loss: 0.0173 - acc: 1.0000 - val_loss: 0.1832 - val_acc: 0.9541\n",
      "Epoch 86/100\n",
      "113/113 [==============================] - 15s 134ms/step - loss: 0.0174 - acc: 1.0000 - val_loss: 0.1844 - val_acc: 0.9538\n",
      "Epoch 87/100\n",
      "113/113 [==============================] - 15s 134ms/step - loss: 0.0176 - acc: 1.0000 - val_loss: 0.1862 - val_acc: 0.9527\n",
      "Epoch 88/100\n",
      "113/113 [==============================] - 15s 133ms/step - loss: 0.0171 - acc: 1.0000 - val_loss: 0.1843 - val_acc: 0.9538\n",
      "Epoch 89/100\n",
      "113/113 [==============================] - 15s 132ms/step - loss: 0.0170 - acc: 1.0000 - val_loss: 0.1875 - val_acc: 0.9504\n",
      "Epoch 90/100\n",
      "113/113 [==============================] - 15s 133ms/step - loss: 0.0174 - acc: 1.0000 - val_loss: 0.1864 - val_acc: 0.9519\n",
      "Epoch 91/100\n",
      "113/113 [==============================] - 15s 136ms/step - loss: 0.0172 - acc: 1.0000 - val_loss: 0.1821 - val_acc: 0.9550\n",
      "Epoch 00091: early stopping\n"
     ]
    }
   ],
   "source": [
    "from keras.callbacks import EarlyStopping\n",
    "\n",
    "earlyStop = EarlyStopping(monitor=\"val_acc\", verbose=2, mode='min', patience=90)\n",
    "history = model.fit(X_train, y_train, epochs=100, batch_size=2048, validation_data=(X_test,y_test), callbacks=[earlyStop])\n"
   ]
  },
  {
   "cell_type": "code",
   "execution_count": 5,
   "id": "strategic-reach",
   "metadata": {},
   "outputs": [
    {
     "name": "stdout",
     "output_type": "stream",
     "text": [
      "Model: \"sequential\"\n",
      "_________________________________________________________________\n",
      "Layer (type)                 Output Shape              Param #   \n",
      "=================================================================\n",
      "bidirectional (Bidirectional (None, 1, 400)            550400    \n",
      "_________________________________________________________________\n",
      "time_distributed (TimeDistri (None, 1, 1)              401       \n",
      "=================================================================\n",
      "Total params: 550,801\n",
      "Trainable params: 550,801\n",
      "Non-trainable params: 0\n",
      "_________________________________________________________________\n"
     ]
    }
   ],
   "source": [
    "model.summary()"
   ]
  },
  {
   "cell_type": "code",
   "execution_count": 7,
   "id": "improved-overhead",
   "metadata": {},
   "outputs": [
    {
     "name": "stdout",
     "output_type": "stream",
     "text": [
      "2400/2400 - 8s - loss: 0.1821 - acc: 0.9550\n",
      "Accuracy: 95.50%\n"
     ]
    }
   ],
   "source": [
    "# Final evaluation of the model\n",
    "scores = model.evaluate(X_test, y_test, verbose=2)\n",
    "print(\"Accuracy: %.2f%%\" % (scores[1]*100))"
   ]
  },
  {
   "cell_type": "code",
   "execution_count": 8,
   "id": "renewable-grill",
   "metadata": {},
   "outputs": [
    {
     "data": {
      "image/png": "[encoded data removed]",
      "text/plain": [
       "<Figure size 432x288 with 1 Axes>"
      ]
     },
     "metadata": {
      "needs_background": "light"
     },
     "output_type": "display_data"
    },
    {
     "data": {
      "image/png": "[encoded data removed]",
      "text/plain": [
       "<Figure size 432x288 with 1 Axes>"
      ]
     },
     "metadata": {
      "needs_background": "light"
     },
     "output_type": "display_data"
    }
   ],
   "source": [
    "import matplotlib.pyplot as plt\n",
    "\n",
    "plt.figure(0)\n",
    "plt.plot(history.history['acc'], label='training accuracy')\n",
    "plt.plot(history.history['val_acc'], label='val accuracy')\n",
    "plt.title('Accuracy')\n",
    "plt.xlabel('epochs')\n",
    "plt.ylabel('accuracy')\n",
    "plt.legend()\n",
    "plt.show()\n",
    "plt.figure(1)\n",
    "plt.plot(history.history['loss'], label='training loss')\n",
    "plt.plot(history.history['val_loss'], label='val loss')\n",
    "plt.title('Loss')\n",
    "plt.xlabel('epochs')\n",
    "plt.ylabel('loss')\n",
    "plt.legend()\n",
    "plt.show()"
   ]
  },
  {
   "cell_type": "code",
   "execution_count": 9,
   "id": "moral-blowing",
   "metadata": {},
   "outputs": [
    {
     "name": "stdout",
     "output_type": "stream",
     "text": [
      "(8, 1, 1)\n",
      "[[1.0322489]] [[0.9682133]] [[0.9668282]] [[0.9955977]] [[-0.01044551]] [[-0.00107235]] [[-0.0075238]] [[0.04027221]]\n"
     ]
    }
   ],
   "source": [
    "res = model.predict(X_train[51196:51204])\n",
    "print(res.shape)\n",
    "print(res[0], res[1], res[2] ,res[3], res[4], res[5],res[6], res[7])"
   ]
  },
  {
   "cell_type": "code",
   "execution_count": 10,
   "id": "utility-quest",
   "metadata": {},
   "outputs": [
    {
     "name": "stdout",
     "output_type": "stream",
     "text": [
      "(8, 1, 1)\n",
      "[[-0.02119496]] [[0.00708434]] [[0.01174393]] [[0.00240096]] [[0.98646736]] [[1.0030068]] [[1.0060369]] [[1.0126548]]\n"
     ]
    }
   ],
   "source": [
    "res = model.predict(X_train[102396:102404])\n",
    "print(res.shape)\n",
    "print(res[0], res[1], res[2] ,res[3], res[4], res[5],res[6], res[7])"
   ]
  },
  {
   "cell_type": "code",
   "execution_count": 11,
   "id": "sexual-gasoline",
   "metadata": {},
   "outputs": [
    {
     "name": "stdout",
     "output_type": "stream",
     "text": [
      "(1, 1, 1)\n",
      "[[-0.02119493]]\n"
     ]
    }
   ],
   "source": [
    "res = model.predict(X_train[102396:102397])\n",
    "print(res.shape)\n",
    "print(res[0])"
   ]
  },
  {
   "cell_type": "code",
   "execution_count": 12,
   "id": "unlimited-childhood",
   "metadata": {},
   "outputs": [
    {
     "name": "stdout",
     "output_type": "stream",
     "text": [
      "(1, 1, 1)\n",
      "[[1.0126548]]\n"
     ]
    }
   ],
   "source": [
    "res = model.predict(X_train[102403:102404])\n",
    "print(res.shape)\n",
    "print(res[0])"
   ]
  },
  {
   "cell_type": "code",
   "execution_count": 44,
   "id": "native-customs",
   "metadata": {},
   "outputs": [],
   "source": [
    "# from sklearn.metrics import confusion_matrix, classification_report\n",
    "\n",
    "# y_pred = model.predict(X_test)\n",
    "# print(y_test.shape)\n",
    "# print(y_pred.shape)\n",
    "# print(classification_report(y_test, y_pred))"
   ]
  },
  {
   "cell_type": "code",
   "execution_count": 49,
   "id": "gross-celtic",
   "metadata": {},
   "outputs": [],
   "source": [
    "# from keras.models import load_model\n",
    "# filename = 'lstm_model.h5'\n",
    "# model.save(filename)\n",
    "# model = load_model('lstm_model.h5')"
   ]
  },
  {
   "cell_type": "code",
   "execution_count": 3,
   "id": "biblical-switzerland",
   "metadata": {},
   "outputs": [],
   "source": [
    "from keras.models import load_model\n",
    "model = load_model('lstm_model.h5')"
   ]
  },
  {
   "cell_type": "code",
   "execution_count": 5,
   "id": "outstanding-budapest",
   "metadata": {},
   "outputs": [
    {
     "name": "stdout",
     "output_type": "stream",
     "text": [
      "Model: \"sequential\"\n",
      "_________________________________________________________________\n",
      "Layer (type)                 Output Shape              Param #   \n",
      "=================================================================\n",
      "bidirectional (Bidirectional (None, 1, 400)            550400    \n",
      "_________________________________________________________________\n",
      "time_distributed (TimeDistri (None, 1, 1)              401       \n",
      "=================================================================\n",
      "Total params: 550,801\n",
      "Trainable params: 550,801\n",
      "Non-trainable params: 0\n",
      "_________________________________________________________________\n"
     ]
    }
   ],
   "source": [
    "model.summary()"
   ]
  },
  {
   "cell_type": "code",
   "execution_count": null,
   "id": "coated-bolivia",
   "metadata": {},
   "outputs": [],
   "source": []
  }
 ],
 "metadata": {
  "kernelspec": {
   "display_name": "Python 3",
   "language": "python",
   "name": "python3"
  },
  "language_info": {
   "codemirror_mode": {
    "name": "ipython",
    "version": 3
   },
   "file_extension": ".py",
   "mimetype": "text/x-python",
   "name": "python",
   "nbconvert_exporter": "python",
   "pygments_lexer": "ipython3",
   "version": "3.7.4"
  }
 },
 "nbformat": 4,
 "nbformat_minor": 5
}
