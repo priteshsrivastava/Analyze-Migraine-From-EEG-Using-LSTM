{
 "cells": [
  {
   "cell_type": "code",
   "execution_count": 1,
   "id": "massive-municipality",
   "metadata": {},
   "outputs": [],
   "source": [
    "# visualize dataset without outliers\n",
    "from pandas import read_csv\n",
    "from matplotlib import pyplot\n",
    "import pandas as pd\n",
    "\n",
    "# load the dataset\n",
    "data_m1 = read_csv('/Users/admin/Desktop/PKS/MTechSem4_2021/MTP1/Dataset/M1_1/M1_data.csv', sep = '\\t')\n",
    "data_m3 = read_csv('/Users/admin/Desktop/PKS/MTechSem4_2021/MTP1/Dataset/M3_2/M3_data.csv', sep = '\\t')\n",
    "data_m4 = read_csv('/Users/admin/Desktop/PKS/MTechSem4_2021/MTP1/Dataset/M4_1/M4_data.csv', sep = '\\t')\n",
    "data_m5 = read_csv('/Users/admin/Desktop/PKS/MTechSem4_2021/MTP1/Dataset/M5_1/M5_data.csv', sep = '\\t')\n",
    "data_m7 = read_csv('/Users/admin/Desktop/PKS/MTechSem4_2021/MTP1/Dataset/M7_1/M7_data.csv', sep = '\\t')\n",
    "\n",
    "data_c1 = read_csv('/Users/admin/Desktop/PKS/MTechSem4_2021/MTP1/Dataset/C1/C1_data.csv', sep = '\\t')\n",
    "data_c2 = read_csv('/Users/admin/Desktop/PKS/MTechSem4_2021/MTP1/Dataset/C2/C2_data.csv', sep = '\\t')\n",
    "data_c3 = read_csv('/Users/admin/Desktop/PKS/MTechSem4_2021/MTP1/Dataset/C3/C3_data.csv', sep = '\\t')\n",
    "data_c4 = read_csv('/Users/admin/Desktop/PKS/MTechSem4_2021/MTP1/Dataset/C4/C4_data.csv', sep = '\\t')\n",
    "data_c5 = read_csv('/Users/admin/Desktop/PKS/MTechSem4_2021/MTP1/Dataset/C5/C5_data.csv', sep = '\\t')\n",
    "\n",
    "\n",
    "# retrieve data as numpy array\n",
    "values_m1 = data_m1.values\n",
    "values_m2 = data_m3.values\n",
    "values_m3 = data_m4.values\n",
    "values_m4 = data_m5.values\n",
    "values_m5 = data_m7.values\n",
    "\n",
    "values_c1 = data_c1.values\n",
    "values_c2 = data_c2.values\n",
    "values_c3 = data_c3.values\n",
    "values_c4 = data_c4.values\n",
    "values_c5 = data_c5.values\n"
   ]
  },
  {
   "cell_type": "code",
   "execution_count": 51,
   "id": "elementary-environment",
   "metadata": {},
   "outputs": [
    {
     "name": "stdout",
     "output_type": "stream",
     "text": [
      "(51200, 143) (51200,)\n",
      "(51200, 143) (51200,)\n",
      "(51200, 143) (51200,)\n",
      "(51200, 143) (51200,)\n",
      "(51200, 143) (51200,)\n",
      "(51200, 143) (51200,)\n",
      "After concat: \n",
      "(307200, 143) (307200,)\n",
      "(204800, 1, 143) (102400, 1, 143)\n"
     ]
    }
   ],
   "source": [
    "# importing library\n",
    "import numpy\n",
    "\n",
    "from pandas import read_csv\n",
    "from sklearn.metrics import accuracy_score\n",
    "from sklearn.model_selection import train_test_split\n",
    "from sklearn.neighbors import KNeighborsClassifier\n",
    "from numpy import array\n",
    "\n",
    "# split data into inputs and outputs. Data chunk size=1024. Handling 50 chunks=1024x50=51200 Rows.\n",
    "# Left first column which has time sequence value\n",
    "X1 = values_m1[0:51200, 1:]\n",
    "y1 = []\n",
    "# print(X1.shape)\n",
    "for j in range(0, 51200):\n",
    "    y1.append(1)#Migraine=1\n",
    "    \n",
    "y1 = numpy.array(y1)\n",
    "# y1.shape\n",
    "# print(len(y))\n",
    "print(X1.shape, y1.shape)\n",
    "\n",
    "X2 = values_c1[0:51200, 1:]\n",
    "y2 = []\n",
    "# print(X2.shape)\n",
    "for j in range(0, 51200):\n",
    "    y2.append(0)#Control=0\n",
    "\n",
    "y2 = numpy.array(y2)\n",
    "# y2.shape\n",
    "print(X2.shape, y2.shape)\n",
    "\n",
    "\n",
    "X3 = values_m2[0:51200, 1:]\n",
    "y3 = []\n",
    "for j in range(0, 51200):\n",
    "    y3.append(1)#Migraine=1\n",
    "y3 = numpy.array(y3)\n",
    "print(X3.shape, y3.shape)\n",
    "\n",
    "X4 = values_c2[0:51200, 1:]\n",
    "y4 = []\n",
    "for j in range(0, 51200):\n",
    "    y4.append(0)#Control=0\n",
    "y4 = numpy.array(y4)\n",
    "print(X4.shape, y4.shape)\n",
    "\n",
    "\n",
    "X5 = values_m3[0:51200, 1:]\n",
    "y5 = []\n",
    "for j in range(0, 51200):\n",
    "    y5.append(1)#Migraine=1\n",
    "y5 = numpy.array(y5)\n",
    "print(X5.shape, y5.shape)\n",
    "\n",
    "X6 = values_c3[0:51200, 1:]\n",
    "y6 = []\n",
    "for j in range(0, 51200):\n",
    "    y6.append(0)#Control=0\n",
    "y6 = numpy.array(y6)\n",
    "print(X6.shape, y6.shape)\n",
    "\n",
    "\n",
    "# X7 = values_m4[0:51200, 1:]\n",
    "# y7 = []\n",
    "# for j in range(0, 51200):\n",
    "#     y7.append(1)#Migraine=1\n",
    "# y7 = numpy.array(y7)\n",
    "# print(X7.shape, y7.shape)\n",
    "\n",
    "# X8 = values_c4[0:51200, 1:]\n",
    "# y8 = []\n",
    "# for j in range(0, 51200):\n",
    "#     y8.append(0)#Control=0\n",
    "# y8 = numpy.array(y8)\n",
    "# print(X8.shape, y8.shape)\n",
    "\n",
    "\n",
    "# X9 = values_m5[0:51200, 1:]\n",
    "# y9 = []\n",
    "# for j in range(0, 51200):\n",
    "#     y9.append(1)#Migraine=1\n",
    "# y9 = numpy.array(y9)\n",
    "# print(X9.shape, y9.shape)\n",
    "\n",
    "# X10 = values_c5[0:51200, 1:]\n",
    "# y10 = []\n",
    "# for j in range(0, 51200):\n",
    "#     y10.append(0)#Control=0\n",
    "# y10 = numpy.array(y10)\n",
    "# print(X10.shape, y10.shape)\n",
    "\n",
    "\n",
    "# data_m1 = pd.concat([data_m1, data_c1], ignore_index=True)\n",
    "\n",
    "# X = numpy.concatenate((X1, X2, X3, X4, X5, X6, X7, X8, X9, X10), axis=0)\n",
    "# y = numpy.concatenate([y1, y2, y3, y4, y5, y6, y7, y8, y9, y10], axis=0)\n",
    "X = numpy.concatenate((X1, X2, X3, X4, X5, X6), axis=0)\n",
    "y = numpy.concatenate([y1, y2, y3, y4, y5, y6], axis=0)\n",
    "print('After concat: ')\n",
    "print(X.shape, y.shape)\n",
    "\n",
    "\n",
    "from sklearn.preprocessing import StandardScaler\n",
    "# Apply StandardScaler.\n",
    "scaler = StandardScaler()\n",
    "scaler.fit(X)\n",
    "X = scaler.transform(X)\n",
    "\n",
    "# split the dataset\n",
    "trainX, testX, y_train, y_test = train_test_split(X, y, test_size=1/3, shuffle=False, random_state=1)\n",
    "\n",
    "# reshape input to be 3D [samples, timesteps, features]\n",
    "X_train = numpy.reshape(trainX, (trainX.shape[0], 1, X.shape[1]))\n",
    "X_test = numpy.reshape(testX, (testX.shape[0], 1, X.shape[1]))\n",
    "print(X_train.shape, X_test.shape)"
   ]
  },
  {
   "cell_type": "code",
   "execution_count": 66,
   "id": "hidden-battlefield",
   "metadata": {
    "scrolled": true
   },
   "outputs": [
    {
     "name": "stdout",
     "output_type": "stream",
     "text": [
      "143\n",
      "Model: \"sequential_13\"\n",
      "_________________________________________________________________\n",
      "Layer (type)                 Output Shape              Param #   \n",
      "=================================================================\n",
      "lstm_13 (LSTM)               (None, 1, 200)            275200    \n",
      "_________________________________________________________________\n",
      "dense_13 (Dense)             (None, 1, 1)              201       \n",
      "=================================================================\n",
      "Total params: 275,401\n",
      "Trainable params: 275,401\n",
      "Non-trainable params: 0\n",
      "_________________________________________________________________\n"
     ]
    }
   ],
   "source": [
    "import tensorflow as tf\n",
    "from tensorflow.keras import Sequential\n",
    "from tensorflow.keras.layers import Dense, Dropout\n",
    "from tensorflow.keras.layers import Embedding\n",
    "from tensorflow.keras.layers import LSTM\n",
    "\n",
    "from keras.layers import Bidirectional\n",
    "from keras.layers import RepeatVector\n",
    "from keras.layers import TimeDistributed\n",
    "\n",
    "print(X_train.shape[2])\n",
    "\n",
    "# model = Sequential()\n",
    "# model.add(Bidirectional(LSTM(400, activation='relu', input_shape=(1,X_train.shape[2]), return_sequences=True))) #input layer\n",
    "# model.add(Dense(4)) # New hidden layer with 4 params\n",
    "# model.add(TimeDistributed(Dense(1))) #output layer\n",
    "# model.compile(loss='mae', optimizer='adam', metrics=['acc'])\n",
    "\n",
    "n_feature = X_train.shape[2]\n",
    "model = Sequential()\n",
    "model.add(LSTM(200, input_shape=(1,n_feature), activation='relu', return_sequences=True))\n",
    "# model.add(Dropout(0.4))\n",
    "# model.add(LSTM(128, activation='relu'))\n",
    "# model.add(Dropout(0.4))\n",
    "\n",
    "# model.add(Dense(1))\n",
    "\n",
    "model.add(Dense(1,activation='sigmoid'))\n",
    "\n",
    "model.compile(loss='mse', optimizer='adam', metrics=['acc'])\n",
    "model.summary()\n"
   ]
  },
  {
   "cell_type": "code",
   "execution_count": 67,
   "id": "prescribed-chair",
   "metadata": {},
   "outputs": [
    {
     "name": "stdout",
     "output_type": "stream",
     "text": [
      "Epoch 1/10\n",
      "200/200 [==============================] - 9s 39ms/step - loss: 0.1075 - acc: 0.8929 - val_loss: 0.2948 - val_acc: 0.5888\n",
      "Epoch 2/10\n",
      "200/200 [==============================] - 7s 35ms/step - loss: 0.0071 - acc: 0.9969 - val_loss: 0.2921 - val_acc: 0.6062\n",
      "Epoch 3/10\n",
      "200/200 [==============================] - 7s 34ms/step - loss: 0.0022 - acc: 0.9991 - val_loss: 0.2849 - val_acc: 0.6201\n",
      "Epoch 4/10\n",
      "200/200 [==============================] - 7s 34ms/step - loss: 9.7154e-04 - acc: 0.9998 - val_loss: 0.2862 - val_acc: 0.6248\n",
      "Epoch 5/10\n",
      "200/200 [==============================] - 7s 34ms/step - loss: 5.3874e-04 - acc: 0.9999 - val_loss: 0.2820 - val_acc: 0.6323\n",
      "Epoch 6/10\n",
      "200/200 [==============================] - 7s 35ms/step - loss: 3.5814e-04 - acc: 0.9999 - val_loss: 0.2817 - val_acc: 0.6346\n",
      "Epoch 00006: early stopping\n",
      "Total time taken in Model Training:  0.732 minutes\n"
     ]
    }
   ],
   "source": [
    "from keras.callbacks import EarlyStopping\n",
    "import time\n",
    "\n",
    "earlyStop = EarlyStopping(monitor=\"val_acc\", verbose=2, mode='min', patience=5)\n",
    "\n",
    "startTime = time.time()\n",
    "history = model.fit(X_train, y_train, epochs=10, batch_size=1024, validation_data=(X_test,y_test), callbacks=[earlyStop])\n",
    "endTime = time.time()\n",
    "# print total time taken\n",
    "elapsedTimeMin = \"{:.3f}\".format((endTime - startTime)/60)\n",
    "print(\"Total time taken in Model Training: \",elapsedTimeMin ,\"minutes\")\n"
   ]
  },
  {
   "cell_type": "code",
   "execution_count": 68,
   "id": "improved-overhead",
   "metadata": {},
   "outputs": [
    {
     "name": "stdout",
     "output_type": "stream",
     "text": [
      "3200/3200 - 7s - loss: 0.2817 - acc: 0.6346\n",
      "Accuracy: 63.46%\n"
     ]
    }
   ],
   "source": [
    "# Final evaluation of the model\n",
    "scores = model.evaluate(X_test, y_test, verbose=2)\n",
    "print(\"Accuracy: %.2f%%\" % (scores[1]*100))\n"
   ]
  },
  {
   "cell_type": "code",
   "execution_count": 27,
   "id": "renewable-grill",
   "metadata": {},
   "outputs": [
    {
     "data": {
      "image/png": "[encoded data removed]",
      "text/plain": [
       "<Figure size 432x288 with 1 Axes>"
      ]
     },
     "metadata": {
      "needs_background": "light"
     },
     "output_type": "display_data"
    },
    {
     "data": {
      "image/png": "[encoded data removed]",
      "text/plain": [
       "<Figure size 432x288 with 1 Axes>"
      ]
     },
     "metadata": {
      "needs_background": "light"
     },
     "output_type": "display_data"
    }
   ],
   "source": [
    "import matplotlib.pyplot as plt\n",
    "\n",
    "plt.figure(0)\n",
    "plt.plot(history.history['acc'], label='training accuracy')\n",
    "plt.plot(history.history['val_acc'], label='val accuracy')\n",
    "plt.title('Accuracy')\n",
    "plt.xlabel('epochs')\n",
    "plt.ylabel('accuracy')\n",
    "plt.legend()\n",
    "plt.show()\n",
    "plt.figure(1)\n",
    "plt.plot(history.history['loss'], label='training loss')\n",
    "plt.plot(history.history['val_loss'], label='val loss')\n",
    "plt.title('Loss')\n",
    "plt.xlabel('epochs')\n",
    "plt.ylabel('loss')\n",
    "plt.legend()\n",
    "plt.show()"
   ]
  },
  {
   "cell_type": "code",
   "execution_count": 7,
   "id": "moral-blowing",
   "metadata": {},
   "outputs": [
    {
     "name": "stdout",
     "output_type": "stream",
     "text": [
      "(8, 1, 1)\n",
      "[[1.0417863]] [[1.0001519]] [[1.0093292]] [[0.97871155]] [[-0.01633677]] [[0.01756689]] [[0.01690829]] [[0.0170102]]\n"
     ]
    }
   ],
   "source": [
    "res = model.predict(X_train[51196:51204])\n",
    "print(res.shape)\n",
    "print(res[0], res[1], res[2] ,res[3], res[4], res[5],res[6], res[7])"
   ]
  },
  {
   "cell_type": "code",
   "execution_count": 8,
   "id": "utility-quest",
   "metadata": {},
   "outputs": [
    {
     "name": "stdout",
     "output_type": "stream",
     "text": [
      "(8, 1, 1)\n",
      "[[0.04409784]] [[0.0296098]] [[0.02081691]] [[-0.01407503]] [[0.98832023]] [[0.99990016]] [[0.9924779]] [[0.99378693]]\n"
     ]
    }
   ],
   "source": [
    "res = model.predict(X_train[102396:102404])\n",
    "print(res.shape)\n",
    "print(res[0], res[1], res[2] ,res[3], res[4], res[5],res[6], res[7])"
   ]
  },
  {
   "cell_type": "code",
   "execution_count": 9,
   "id": "sexual-gasoline",
   "metadata": {},
   "outputs": [
    {
     "name": "stdout",
     "output_type": "stream",
     "text": [
      "(1, 1, 1)\n",
      "[[0.04409783]]\n"
     ]
    }
   ],
   "source": [
    "res = model.predict(X_train[102396:102397])\n",
    "print(res.shape)\n",
    "print(res[0])"
   ]
  },
  {
   "cell_type": "code",
   "execution_count": 10,
   "id": "unlimited-childhood",
   "metadata": {},
   "outputs": [
    {
     "name": "stdout",
     "output_type": "stream",
     "text": [
      "(1, 1, 1)\n",
      "[[0.9937869]]\n"
     ]
    }
   ],
   "source": [
    "res = model.predict(X_train[102403:102404])\n",
    "print(res.shape)\n",
    "print(res[0])"
   ]
  },
  {
   "cell_type": "code",
   "execution_count": 14,
   "id": "gross-celtic",
   "metadata": {},
   "outputs": [],
   "source": [
    "# from keras.models import load_model\n",
    "# filename = 'lstm_vanilla_model.h5'\n",
    "# model.save(filename)\n"
   ]
  },
  {
   "cell_type": "code",
   "execution_count": 15,
   "id": "biblical-switzerland",
   "metadata": {},
   "outputs": [],
   "source": [
    "# from keras.models import load_model\n",
    "# model = load_model('lstm_vanilla_model.h5')"
   ]
  },
  {
   "cell_type": "code",
   "execution_count": 11,
   "id": "outstanding-budapest",
   "metadata": {},
   "outputs": [
    {
     "name": "stdout",
     "output_type": "stream",
     "text": [
      "Model: \"sequential\"\n",
      "_________________________________________________________________\n",
      "Layer (type)                 Output Shape              Param #   \n",
      "=================================================================\n",
      "lstm (LSTM)                  (None, 1, 400)            870400    \n",
      "_________________________________________________________________\n",
      "dense (Dense)                (None, 1, 1)              401       \n",
      "=================================================================\n",
      "Total params: 870,801\n",
      "Trainable params: 870,801\n",
      "Non-trainable params: 0\n",
      "_________________________________________________________________\n"
     ]
    }
   ],
   "source": [
    "model.summary()"
   ]
  },
  {
   "cell_type": "code",
   "execution_count": null,
   "id": "checked-proposition",
   "metadata": {},
   "outputs": [],
   "source": []
  }
 ],
 "metadata": {
  "kernelspec": {
   "display_name": "Python 3",
   "language": "python",
   "name": "python3"
  },
  "language_info": {
   "codemirror_mode": {
    "name": "ipython",
    "version": 3
   },
   "file_extension": ".py",
   "mimetype": "text/x-python",
   "name": "python",
   "nbconvert_exporter": "python",
   "pygments_lexer": "ipython3",
   "version": "3.7.4"
  }
 },
 "nbformat": 4,
 "nbformat_minor": 5
}
