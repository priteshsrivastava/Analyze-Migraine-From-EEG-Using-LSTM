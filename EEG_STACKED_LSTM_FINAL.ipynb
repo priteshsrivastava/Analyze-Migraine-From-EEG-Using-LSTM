{
 "cells": [
  {
   "cell_type": "code",
   "execution_count": 1,
   "id": "massive-municipality",
   "metadata": {},
   "outputs": [],
   "source": [
    "# visualize dataset without outliers\n",
    "from pandas import read_csv\n",
    "from matplotlib import pyplot\n",
    "import pandas as pd\n",
    "\n",
    "# load the dataset\n",
    "data_m1 = read_csv('/Users/admin/Desktop/PKS/MTechSem4_2021/MTP1/Dataset/M1_1/M1_data.csv', sep = '\\t')\n",
    "data_m3 = read_csv('/Users/admin/Desktop/PKS/MTechSem4_2021/MTP1/Dataset/M3_2/M3_data.csv', sep = '\\t')\n",
    "data_m4 = read_csv('/Users/admin/Desktop/PKS/MTechSem4_2021/MTP1/Dataset/M4_1/M4_data.csv', sep = '\\t')\n",
    "data_m5 = read_csv('/Users/admin/Desktop/PKS/MTechSem4_2021/MTP1/Dataset/M5_1/M5_data.csv', sep = '\\t')\n",
    "data_m7 = read_csv('/Users/admin/Desktop/PKS/MTechSem4_2021/MTP1/Dataset/M7_1/M7_data.csv', sep = '\\t')\n",
    "\n",
    "data_c1 = read_csv('/Users/admin/Desktop/PKS/MTechSem4_2021/MTP1/Dataset/C1/C1_data.csv', sep = '\\t')\n",
    "data_c2 = read_csv('/Users/admin/Desktop/PKS/MTechSem4_2021/MTP1/Dataset/C2/C2_data.csv', sep = '\\t')\n",
    "data_c3 = read_csv('/Users/admin/Desktop/PKS/MTechSem4_2021/MTP1/Dataset/C3/C3_data.csv', sep = '\\t')\n",
    "data_c4 = read_csv('/Users/admin/Desktop/PKS/MTechSem4_2021/MTP1/Dataset/C4/C4_data.csv', sep = '\\t')\n",
    "data_c5 = read_csv('/Users/admin/Desktop/PKS/MTechSem4_2021/MTP1/Dataset/C5/C5_data.csv', sep = '\\t')\n",
    "\n",
    "\n",
    "# retrieve data as numpy array\n",
    "values_m1 = data_m1.values\n",
    "values_m2 = data_m3.values\n",
    "values_m3 = data_m4.values\n",
    "values_m4 = data_m5.values\n",
    "values_m5 = data_m7.values\n",
    "\n",
    "values_c1 = data_c1.values\n",
    "values_c2 = data_c2.values\n",
    "values_c3 = data_c3.values\n",
    "values_c4 = data_c4.values\n",
    "values_c5 = data_c5.values\n"
   ]
  },
  {
   "cell_type": "code",
   "execution_count": 2,
   "id": "elementary-environment",
   "metadata": {},
   "outputs": [
    {
     "name": "stdout",
     "output_type": "stream",
     "text": [
      "(51200, 143) (51200,)\n",
      "(51200, 143) (51200,)\n",
      "(51200, 143) (51200,)\n",
      "(51200, 143) (51200,)\n",
      "(51200, 143) (51200,)\n",
      "(51200, 143) (51200,)\n",
      "(51200, 143) (51200,)\n",
      "(51200, 143) (51200,)\n",
      "(51200, 143) (51200,)\n",
      "(51200, 143) (51200,)\n",
      "After concat: \n",
      "(307200, 143) (307200,)\n",
      "(204800, 1, 143) (102400, 1, 143)\n"
     ]
    }
   ],
   "source": [
    "# importing library\n",
    "import numpy\n",
    "\n",
    "from pandas import read_csv\n",
    "from sklearn.metrics import accuracy_score\n",
    "from sklearn.model_selection import train_test_split\n",
    "from sklearn.neighbors import KNeighborsClassifier\n",
    "from numpy import array\n",
    "\n",
    "# split data into inputs and outputs. Data chunk size=1024. Handling 50 chunks=1024x50=51200 Rows.\n",
    "# Left first column which has time sequence value\n",
    "X1 = values_m1[0:51200, 1:]\n",
    "y1 = []\n",
    "# print(X1.shape)\n",
    "for j in range(0, 51200):\n",
    "    y1.append(1)#Migraine=1\n",
    "    \n",
    "y1 = numpy.array(y1)\n",
    "# y1.shape\n",
    "# print(len(y))\n",
    "print(X1.shape, y1.shape)\n",
    "\n",
    "X2 = values_c1[0:51200, 1:]\n",
    "y2 = []\n",
    "# print(X2.shape)\n",
    "for j in range(0, 51200):\n",
    "    y2.append(0)#Control=0\n",
    "\n",
    "y2 = numpy.array(y2)\n",
    "# y2.shape\n",
    "print(X2.shape, y2.shape)\n",
    "\n",
    "\n",
    "X3 = values_m2[0:51200, 1:]\n",
    "y3 = []\n",
    "for j in range(0, 51200):\n",
    "    y3.append(1)#Migraine=1\n",
    "y3 = numpy.array(y3)\n",
    "print(X3.shape, y3.shape)\n",
    "\n",
    "X4 = values_c2[0:51200, 1:]\n",
    "y4 = []\n",
    "for j in range(0, 51200):\n",
    "    y4.append(0)#Control=0\n",
    "y4 = numpy.array(y4)\n",
    "print(X4.shape, y4.shape)\n",
    "\n",
    "\n",
    "X5 = values_m3[0:51200, 1:]\n",
    "y5 = []\n",
    "for j in range(0, 51200):\n",
    "    y5.append(1)#Migraine=1\n",
    "y5 = numpy.array(y5)\n",
    "print(X5.shape, y5.shape)\n",
    "\n",
    "X6 = values_c3[0:51200, 1:]\n",
    "y6 = []\n",
    "for j in range(0, 51200):\n",
    "    y6.append(0)#Control=0\n",
    "y6 = numpy.array(y6)\n",
    "print(X6.shape, y6.shape)\n",
    "\n",
    "\n",
    "X7 = values_m4[0:51200, 1:]\n",
    "y7 = []\n",
    "for j in range(0, 51200):\n",
    "    y7.append(1)#Migraine=1\n",
    "y7 = numpy.array(y7)\n",
    "print(X7.shape, y7.shape)\n",
    "\n",
    "X8 = values_c4[0:51200, 1:]\n",
    "y8 = []\n",
    "for j in range(0, 51200):\n",
    "    y8.append(0)#Control=0\n",
    "y8 = numpy.array(y8)\n",
    "print(X8.shape, y8.shape)\n",
    "\n",
    "\n",
    "X9 = values_m5[0:51200, 1:]\n",
    "y9 = []\n",
    "for j in range(0, 51200):\n",
    "    y9.append(1)#Migraine=1\n",
    "y9 = numpy.array(y9)\n",
    "print(X9.shape, y9.shape)\n",
    "\n",
    "X10 = values_c5[0:51200, 1:]\n",
    "y10 = []\n",
    "for j in range(0, 51200):\n",
    "    y10.append(0)#Control=0\n",
    "y10 = numpy.array(y10)\n",
    "print(X10.shape, y10.shape)\n",
    "\n",
    "\n",
    "# data_m1 = pd.concat([data_m1, data_c1], ignore_index=True)\n",
    "\n",
    "# X = numpy.concatenate((X1, X2, X3, X4, X5, X6, X7, X8, X9, X10), axis=0)\n",
    "# y = numpy.concatenate([y1, y2, y3, y4, y5, y6, y7, y8, y9, y10], axis=0)\n",
    "X = numpy.concatenate((X1, X2, X3, X4, X5, X6), axis=0)\n",
    "y = numpy.concatenate([y1, y2, y3, y4, y5, y6], axis=0)\n",
    "print('After concat: ')\n",
    "print(X.shape, y.shape)\n",
    "\n",
    "\n",
    "from sklearn.preprocessing import StandardScaler\n",
    "# Apply StandardScaler.\n",
    "scaler = StandardScaler()\n",
    "scaler.fit(X)\n",
    "X = scaler.transform(X)\n",
    "\n",
    "# split the dataset\n",
    "trainX, testX, y_train, y_test = train_test_split(X, y, test_size=1/3, shuffle=False, random_state=1)\n",
    "\n",
    "# reshape input to be 3D [samples, timesteps, features]\n",
    "X_train = numpy.reshape(trainX, (trainX.shape[0], 1, X.shape[1]))\n",
    "X_test = numpy.reshape(testX, (testX.shape[0], 1, X.shape[1]))\n",
    "print(X_train.shape, X_test.shape)"
   ]
  },
  {
   "cell_type": "code",
   "execution_count": 58,
   "id": "hidden-battlefield",
   "metadata": {
    "scrolled": true
   },
   "outputs": [
    {
     "name": "stdout",
     "output_type": "stream",
     "text": [
      "143\n",
      "Model: \"sequential_31\"\n",
      "_________________________________________________________________\n",
      "Layer (type)                 Output Shape              Param #   \n",
      "=================================================================\n",
      "lstm_90 (LSTM)               (None, 1, 400)            870400    \n",
      "_________________________________________________________________\n",
      "lstm_91 (LSTM)               (None, 1, 400)            1281600   \n",
      "_________________________________________________________________\n",
      "dense_23 (Dense)             (None, 1, 1)              401       \n",
      "=================================================================\n",
      "Total params: 2,152,401\n",
      "Trainable params: 2,152,401\n",
      "Non-trainable params: 0\n",
      "_________________________________________________________________\n"
     ]
    }
   ],
   "source": [
    "import tensorflow as tf\n",
    "from tensorflow.keras import Sequential\n",
    "from tensorflow.keras.layers import Dense, Dropout\n",
    "from tensorflow.keras.layers import Embedding\n",
    "from tensorflow.keras.layers import LSTM\n",
    "\n",
    "from keras.layers import Bidirectional\n",
    "from keras.layers import RepeatVector\n",
    "from keras.layers import TimeDistributed\n",
    "\n",
    "print(X_train.shape[2])\n",
    "\n",
    "# model = Sequential()\n",
    "# model.add(Bidirectional(LSTM(400, activation='relu', input_shape=(1,X_train.shape[2]), return_sequences=True))) #input layer\n",
    "# model.add(Dense(4)) # New hidden layer with 4 params\n",
    "# model.add(TimeDistributed(Dense(1))) #output layer\n",
    "# model.compile(loss='mae', optimizer='adam', metrics=['acc'])\n",
    "\n",
    "n_feature = X_train.shape[2]\n",
    "model = Sequential()\n",
    "model.add(LSTM(400, input_shape=(1,n_feature), activation='relu', return_sequences=True))\n",
    "# model.add(Dropout(0.4))\n",
    "model.add(LSTM(400, activation='relu',return_sequences=True))\n",
    "# model.add(Dropout(0.4))\n",
    "# model.add(LSTM(100, activation='relu',return_sequences=True))\n",
    "# model.add(Dropout(0.4))\n",
    "# model.add(LSTM(50, activation='relu',return_sequences=True))\n",
    "# model.add(Dropout(0.4))\n",
    "model.add(Dense(1))\n",
    "model.compile(loss='mse', optimizer='adam', metrics=['acc'])\n",
    "model.summary()"
   ]
  },
  {
   "cell_type": "code",
   "execution_count": 62,
   "id": "prescribed-chair",
   "metadata": {},
   "outputs": [
    {
     "name": "stdout",
     "output_type": "stream",
     "text": [
      "Epoch 1/50\n",
      "200/200 [==============================] - 47s 236ms/step - loss: 5.0288e-06 - acc: 1.0000 - val_loss: 0.3198 - val_acc: 0.6112\n",
      "Epoch 2/50\n",
      "200/200 [==============================] - 48s 242ms/step - loss: 4.4419e-06 - acc: 1.0000 - val_loss: 0.3186 - val_acc: 0.6126\n",
      "Epoch 3/50\n",
      "200/200 [==============================] - 42s 210ms/step - loss: 3.9778e-06 - acc: 1.0000 - val_loss: 0.3176 - val_acc: 0.6136\n",
      "Epoch 4/50\n",
      "200/200 [==============================] - 42s 211ms/step - loss: 3.5305e-06 - acc: 1.0000 - val_loss: 0.3163 - val_acc: 0.6152\n",
      "Epoch 5/50\n",
      "200/200 [==============================] - 42s 211ms/step - loss: 3.1099e-06 - acc: 1.0000 - val_loss: 0.3153 - val_acc: 0.6161\n",
      "Epoch 6/50\n",
      "200/200 [==============================] - 43s 213ms/step - loss: 2.8685e-06 - acc: 1.0000 - val_loss: 0.3144 - val_acc: 0.6171\n",
      "Epoch 7/50\n",
      "200/200 [==============================] - 43s 215ms/step - loss: 2.7449e-06 - acc: 1.0000 - val_loss: 0.3133 - val_acc: 0.6182\n",
      "Epoch 8/50\n",
      "200/200 [==============================] - 44s 222ms/step - loss: 2.4605e-06 - acc: 1.0000 - val_loss: 0.3124 - val_acc: 0.6191\n",
      "Epoch 9/50\n",
      "200/200 [==============================] - 45s 224ms/step - loss: 2.3064e-06 - acc: 1.0000 - val_loss: 0.3116 - val_acc: 0.6200\n",
      "Epoch 10/50\n",
      "200/200 [==============================] - 46s 230ms/step - loss: 2.2440e-06 - acc: 1.0000 - val_loss: 0.3104 - val_acc: 0.6212\n",
      "Epoch 11/50\n",
      "200/200 [==============================] - 43s 214ms/step - loss: 2.5306e-06 - acc: 1.0000 - val_loss: 0.3095 - val_acc: 0.6222\n",
      "Epoch 12/50\n",
      "200/200 [==============================] - 42s 211ms/step - loss: 2.6102e-06 - acc: 1.0000 - val_loss: 0.3086 - val_acc: 0.6231\n",
      "Epoch 13/50\n",
      "200/200 [==============================] - 42s 210ms/step - loss: 2.1823e-06 - acc: 1.0000 - val_loss: 0.3077 - val_acc: 0.6241\n",
      "Epoch 14/50\n",
      "200/200 [==============================] - 42s 211ms/step - loss: 2.5085e-06 - acc: 1.0000 - val_loss: 0.3067 - val_acc: 0.6256\n",
      "Epoch 15/50\n",
      "200/200 [==============================] - 44s 223ms/step - loss: 2.9462e-06 - acc: 1.0000 - val_loss: 0.3059 - val_acc: 0.6260\n",
      "Epoch 16/50\n",
      "200/200 [==============================] - 42s 210ms/step - loss: 2.0812e-06 - acc: 1.0000 - val_loss: 0.3053 - val_acc: 0.6267\n",
      "Epoch 17/50\n",
      "200/200 [==============================] - 43s 215ms/step - loss: 2.3821e-06 - acc: 1.0000 - val_loss: 0.3042 - val_acc: 0.6281\n",
      "Epoch 18/50\n",
      "200/200 [==============================] - 43s 217ms/step - loss: 2.9227e-06 - acc: 1.0000 - val_loss: 0.3032 - val_acc: 0.6289\n",
      "Epoch 19/50\n",
      "200/200 [==============================] - 42s 211ms/step - loss: 1.5542e-06 - acc: 1.0000 - val_loss: 0.3025 - val_acc: 0.6297\n",
      "Epoch 20/50\n",
      "200/200 [==============================] - 47s 237ms/step - loss: 2.5902e-06 - acc: 1.0000 - val_loss: 0.3013 - val_acc: 0.6310\n",
      "Epoch 21/50\n",
      "200/200 [==============================] - 45s 226ms/step - loss: 2.4478e-06 - acc: 1.0000 - val_loss: 0.3002 - val_acc: 0.6320\n",
      "Epoch 22/50\n",
      "200/200 [==============================] - 46s 230ms/step - loss: 1.4681e-06 - acc: 1.0000 - val_loss: 0.3000 - val_acc: 0.6324\n",
      "Epoch 23/50\n",
      "200/200 [==============================] - 48s 240ms/step - loss: 2.3422e-06 - acc: 1.0000 - val_loss: 0.2988 - val_acc: 0.6335\n",
      "Epoch 24/50\n",
      "200/200 [==============================] - 48s 240ms/step - loss: 2.3059e-06 - acc: 1.0000 - val_loss: 0.2979 - val_acc: 0.6343\n",
      "Epoch 25/50\n",
      "200/200 [==============================] - 53s 265ms/step - loss: 1.4880e-06 - acc: 1.0000 - val_loss: 0.2980 - val_acc: 0.6341\n",
      "Epoch 26/50\n",
      "200/200 [==============================] - 45s 226ms/step - loss: 2.5052e-06 - acc: 1.0000 - val_loss: 0.2961 - val_acc: 0.6364\n",
      "Epoch 27/50\n",
      "200/200 [==============================] - 42s 210ms/step - loss: 2.7796e-06 - acc: 1.0000 - val_loss: 0.2959 - val_acc: 0.6366\n",
      "Epoch 28/50\n",
      "200/200 [==============================] - 51s 256ms/step - loss: 9.4323e-07 - acc: 1.0000 - val_loss: 0.2947 - val_acc: 0.6377\n",
      "Epoch 29/50\n",
      "200/200 [==============================] - 43s 215ms/step - loss: 2.4188e-06 - acc: 1.0000 - val_loss: 0.2938 - val_acc: 0.6388\n",
      "Epoch 30/50\n",
      "200/200 [==============================] - 44s 219ms/step - loss: 9.8349e-07 - acc: 1.0000 - val_loss: 0.2934 - val_acc: 0.6390\n",
      "Epoch 31/50\n",
      "200/200 [==============================] - 43s 217ms/step - loss: 2.3399e-06 - acc: 1.0000 - val_loss: 0.2921 - val_acc: 0.6405\n",
      "Epoch 32/50\n",
      "200/200 [==============================] - 46s 229ms/step - loss: 9.9282e-07 - acc: 1.0000 - val_loss: 0.2911 - val_acc: 0.6414\n",
      "Epoch 33/50\n",
      "200/200 [==============================] - 45s 227ms/step - loss: 2.0323e-06 - acc: 1.0000 - val_loss: 0.2907 - val_acc: 0.6420\n",
      "Epoch 34/50\n",
      "200/200 [==============================] - 47s 234ms/step - loss: 1.6513e-06 - acc: 1.0000 - val_loss: 0.2898 - val_acc: 0.6429\n",
      "Epoch 35/50\n",
      "200/200 [==============================] - 53s 264ms/step - loss: 1.3731e-06 - acc: 1.0000 - val_loss: 0.2889 - val_acc: 0.6440\n",
      "Epoch 36/50\n",
      "200/200 [==============================] - 45s 225ms/step - loss: 1.9854e-06 - acc: 1.0000 - val_loss: 0.2882 - val_acc: 0.6447\n",
      "Epoch 37/50\n",
      "200/200 [==============================] - 48s 242ms/step - loss: 1.4038e-06 - acc: 1.0000 - val_loss: 0.2874 - val_acc: 0.6456\n",
      "Epoch 38/50\n",
      "200/200 [==============================] - 43s 217ms/step - loss: 1.2173e-06 - acc: 1.0000 - val_loss: 0.2863 - val_acc: 0.6467\n",
      "Epoch 39/50\n",
      "200/200 [==============================] - 45s 225ms/step - loss: 2.1039e-06 - acc: 1.0000 - val_loss: 0.2859 - val_acc: 0.6472\n",
      "Epoch 40/50\n",
      "200/200 [==============================] - 50s 252ms/step - loss: 1.3891e-06 - acc: 1.0000 - val_loss: 0.2850 - val_acc: 0.6479\n",
      "Epoch 41/50\n",
      "200/200 [==============================] - 47s 235ms/step - loss: 1.5838e-06 - acc: 1.0000 - val_loss: 0.2839 - val_acc: 0.6491\n",
      "Epoch 42/50\n",
      "200/200 [==============================] - 43s 216ms/step - loss: 9.1668e-07 - acc: 1.0000 - val_loss: 0.2834 - val_acc: 0.6498\n",
      "Epoch 43/50\n",
      "200/200 [==============================] - 47s 236ms/step - loss: 2.0746e-06 - acc: 1.0000 - val_loss: 0.2819 - val_acc: 0.6513\n",
      "Epoch 44/50\n",
      "200/200 [==============================] - 42s 209ms/step - loss: 9.9772e-07 - acc: 1.0000 - val_loss: 0.2816 - val_acc: 0.6516\n",
      "Epoch 45/50\n",
      "200/200 [==============================] - 44s 221ms/step - loss: 1.4917e-06 - acc: 1.0000 - val_loss: 0.2812 - val_acc: 0.6519\n",
      "Epoch 46/50\n",
      "200/200 [==============================] - 49s 244ms/step - loss: 1.1601e-06 - acc: 1.0000 - val_loss: 0.2873 - val_acc: 0.6460\n",
      "Epoch 47/50\n",
      "200/200 [==============================] - 44s 222ms/step - loss: 2.2822e-06 - acc: 1.0000 - val_loss: 0.2838 - val_acc: 0.6502\n",
      "Epoch 48/50\n",
      "200/200 [==============================] - 44s 218ms/step - loss: 4.3756e-07 - acc: 1.0000 - val_loss: 0.2822 - val_acc: 0.6517\n",
      "Epoch 49/50\n",
      "200/200 [==============================] - 43s 215ms/step - loss: 1.3863e-06 - acc: 1.0000 - val_loss: 0.2805 - val_acc: 0.6536\n",
      "Epoch 50/50\n",
      "200/200 [==============================] - 43s 217ms/step - loss: 2.6537e-06 - acc: 1.0000 - val_loss: 0.2775 - val_acc: 0.6565\n",
      "Total time taken in Model Training:  37.548 minutes\n"
     ]
    }
   ],
   "source": [
    "from keras.callbacks import EarlyStopping\n",
    "import time\n",
    "\n",
    "earlyStop = EarlyStopping(monitor=\"val_acc\", verbose=2, mode='min', patience=50)\n",
    "\n",
    "startTime = time.time()\n",
    "history = model.fit(X_train, y_train, epochs=50, batch_size=1024, validation_data=(X_test,y_test), callbacks=[earlyStop])\n",
    "endTime = time.time()\n",
    "# print total time taken\n",
    "elapsedTimeMin = \"{:.3f}\".format((endTime - startTime)/60)\n",
    "print(\"Total time taken in Model Training: \",elapsedTimeMin ,\"minutes\")\n"
   ]
  },
  {
   "cell_type": "code",
   "execution_count": 63,
   "id": "improved-overhead",
   "metadata": {},
   "outputs": [
    {
     "name": "stdout",
     "output_type": "stream",
     "text": [
      "3200/3200 - 19s - loss: 0.2775 - acc: 0.6565\n",
      "Accuracy: 65.65%\n"
     ]
    }
   ],
   "source": [
    "# Final evaluation of the model\n",
    "scores = model.evaluate(X_test, y_test, verbose=2)\n",
    "print(\"Accuracy: %.2f%%\" % (scores[1]*100))\n"
   ]
  },
  {
   "cell_type": "code",
   "execution_count": 64,
   "id": "renewable-grill",
   "metadata": {},
   "outputs": [
    {
     "data": {
      "image/png": "[encoded data removed]",
      "text/plain": [
       "<Figure size 432x288 with 1 Axes>"
      ]
     },
     "metadata": {
      "needs_background": "light"
     },
     "output_type": "display_data"
    },
    {
     "data": {
      "image/png": "[encoded data removed]",
      "text/plain": [
       "<Figure size 432x288 with 1 Axes>"
      ]
     },
     "metadata": {
      "needs_background": "light"
     },
     "output_type": "display_data"
    }
   ],
   "source": [
    "import matplotlib.pyplot as plt\n",
    "\n",
    "plt.figure(0)\n",
    "plt.plot(history.history['acc'], label='training accuracy')\n",
    "plt.plot(history.history['val_acc'], label='val accuracy')\n",
    "plt.title('Accuracy')\n",
    "plt.xlabel('epochs')\n",
    "plt.ylabel('accuracy')\n",
    "plt.legend()\n",
    "plt.show()\n",
    "plt.figure(1)\n",
    "plt.plot(history.history['loss'], label='training loss')\n",
    "plt.plot(history.history['val_loss'], label='val loss')\n",
    "plt.title('Loss')\n",
    "plt.xlabel('epochs')\n",
    "plt.ylabel('loss')\n",
    "plt.legend()\n",
    "plt.show()"
   ]
  },
  {
   "cell_type": "code",
   "execution_count": 7,
   "id": "moral-blowing",
   "metadata": {},
   "outputs": [
    {
     "name": "stdout",
     "output_type": "stream",
     "text": [
      "(8, 1)\n",
      "[0.9983017] [0.9998929] [0.99839497] [0.9997505] [-0.00018184] [-0.00076066] [0.00068207] [0.00182236]\n"
     ]
    }
   ],
   "source": [
    "res = model.predict(X_train[51196:51204])\n",
    "print(res.shape)\n",
    "print(res[0], res[1], res[2] ,res[3], res[4], res[5],res[6], res[7])"
   ]
  },
  {
   "cell_type": "code",
   "execution_count": 10,
   "id": "utility-quest",
   "metadata": {},
   "outputs": [
    {
     "name": "stdout",
     "output_type": "stream",
     "text": [
      "(8, 1, 1)\n",
      "[[0.00933981]] [[0.00121178]] [[0.02699213]] [[0.00910357]] [[0.9899065]] [[1.0111927]] [[1.002794]] [[1.0114403]]\n"
     ]
    }
   ],
   "source": [
    "res = model.predict(X_train[102396:102404])\n",
    "print(res.shape)\n",
    "print(res[0], res[1], res[2] ,res[3], res[4], res[5],res[6], res[7])"
   ]
  },
  {
   "cell_type": "code",
   "execution_count": 11,
   "id": "sexual-gasoline",
   "metadata": {},
   "outputs": [
    {
     "name": "stdout",
     "output_type": "stream",
     "text": [
      "(1, 1, 1)\n",
      "[[0.00933984]]\n"
     ]
    }
   ],
   "source": [
    "res = model.predict(X_train[102396:102397])\n",
    "print(res.shape)\n",
    "print(res[0])"
   ]
  },
  {
   "cell_type": "code",
   "execution_count": 12,
   "id": "unlimited-childhood",
   "metadata": {},
   "outputs": [
    {
     "name": "stdout",
     "output_type": "stream",
     "text": [
      "(1, 1, 1)\n",
      "[[1.0114403]]\n"
     ]
    }
   ],
   "source": [
    "res = model.predict(X_train[102403:102404])\n",
    "print(res.shape)\n",
    "print(res[0])"
   ]
  },
  {
   "cell_type": "code",
   "execution_count": 14,
   "id": "gross-celtic",
   "metadata": {},
   "outputs": [],
   "source": [
    "from keras.models import load_model\n",
    "filename = 'lstm_stacked_model.h5'\n",
    "model.save(filename)\n"
   ]
  },
  {
   "cell_type": "code",
   "execution_count": 15,
   "id": "biblical-switzerland",
   "metadata": {},
   "outputs": [],
   "source": [
    "from keras.models import load_model\n",
    "model = load_model('lstm_stacked_model.h5')"
   ]
  },
  {
   "cell_type": "code",
   "execution_count": 16,
   "id": "outstanding-budapest",
   "metadata": {},
   "outputs": [
    {
     "name": "stdout",
     "output_type": "stream",
     "text": [
      "Model: \"sequential_1\"\n",
      "_________________________________________________________________\n",
      "Layer (type)                 Output Shape              Param #   \n",
      "=================================================================\n",
      "lstm_1 (LSTM)                (None, 1, 400)            870400    \n",
      "_________________________________________________________________\n",
      "dense_1 (Dense)              (None, 1, 1)              401       \n",
      "=================================================================\n",
      "Total params: 870,801\n",
      "Trainable params: 870,801\n",
      "Non-trainable params: 0\n",
      "_________________________________________________________________\n"
     ]
    }
   ],
   "source": [
    "model.summary()"
   ]
  },
  {
   "cell_type": "code",
   "execution_count": null,
   "id": "played-cocktail",
   "metadata": {},
   "outputs": [],
   "source": []
  }
 ],
 "metadata": {
  "kernelspec": {
   "display_name": "Python 3",
   "language": "python",
   "name": "python3"
  },
  "language_info": {
   "codemirror_mode": {
    "name": "ipython",
    "version": 3
   },
   "file_extension": ".py",
   "mimetype": "text/x-python",
   "name": "python",
   "nbconvert_exporter": "python",
   "pygments_lexer": "ipython3",
   "version": "3.7.4"
  }
 },
 "nbformat": 4,
 "nbformat_minor": 5
}
